{
 "cells": [
  {
   "cell_type": "markdown",
   "id": "d54e2dce-ad61-4886-b615-96e65db956d3",
   "metadata": {},
   "source": [
    "Q1. Explain Class and Object with respect to Object-Oriented Programming. Give a suitable example.\n"
   ]
  },
  {
   "cell_type": "markdown",
   "id": "9d331bb1-1c39-4305-bcaf-8169054197d5",
   "metadata": {},
   "source": [
    "In object-oriented programming, a class is a blueprint or template that defines the structure and behavior of objects. It is an abstract representation of a real-world entity that encapsulates data (attributes) and functionality (methods). A class acts as a blueprint for creating specific instances of objects known as objects.\n",
    "\n",
    "An object, on the other hand, is a specific instance of a class. It is created based on the class definition and represents a unique entity with its own state and behavior. Objects have their own data and can perform actions using the methods defined in the class.\n",
    "\n",
    "For example, consider a class called \"Car\" that represents the concept of a car. It may have attributes like \"color\", \"make\", and \"model\". The class also defines methods like \"start_engine()\" and \"drive()\" that specify the behavior of a car. Using this class, you can create multiple car objects, each with its own specific characteristics and behavior."
   ]
  },
  {
   "cell_type": "code",
   "execution_count": 1,
   "id": "4287aede-e87a-4725-8da0-0c7356d65ee9",
   "metadata": {},
   "outputs": [
    {
     "name": "stdout",
     "output_type": "stream",
     "text": [
      "Red\n",
      "Engine started.\n",
      "Car is being driven.\n"
     ]
    }
   ],
   "source": [
    "class Car:\n",
    "    def __init__(self, color, make, model):\n",
    "        self.color = color\n",
    "        self.make = make\n",
    "        self.model = model\n",
    "\n",
    "    def start_engine(self):\n",
    "        print(\"Engine started.\")\n",
    "\n",
    "    def drive(self):\n",
    "        print(\"Car is being driven.\")\n",
    "\n",
    "# Creating car objects\n",
    "car1 = Car(\"Red\", \"Honda\", \"Civic\")\n",
    "car2 = Car(\"Blue\", \"Toyota\", \"Camry\")\n",
    "\n",
    "# Accessing attributes and invoking methods\n",
    "print(car1.color)   # Output: Red\n",
    "car2.start_engine() # Output: Engine started.\n",
    "car1.drive()        # Output: Car is being driven.\n"
   ]
  },
  {
   "cell_type": "markdown",
   "id": "eb9647e0-d04d-4834-9594-1f188b152de6",
   "metadata": {},
   "source": [
    "Q2. The four pillars of Object-Oriented Programming (OOPs):\n",
    "\n"
   ]
  },
  {
   "cell_type": "raw",
   "id": "2dacb1d9-d728-4fe9-aeb4-4a549802f4bd",
   "metadata": {},
   "source": [
    "Encapsulization, Inheritence, Polymorphism & Abstraction"
   ]
  },
  {
   "cell_type": "markdown",
   "id": "35cadf2f-d72c-4fdd-b20c-1f3f851edbb5",
   "metadata": {},
   "source": [
    "Q3. The purpose of the __init__() function in Python:\n",
    "\n"
   ]
  },
  {
   "cell_type": "markdown",
   "id": "c295a224-dc02-46bf-bc13-9634f773a087",
   "metadata": {},
   "source": [
    "The __init__() function is a special method in Python classes. It is called a constructor and is automatically invoked when creating an object of a class. The primary purpose of the __init__() function is to initialize the object's attributes or properties.\n",
    "\n",
    "When a new object is created from a class, the __init__() method sets the initial state of the object by assigning values to its attributes. It allows you to provide initial values for the object's attributes based on the arguments passed during object creation.\n",
    "\n",
    "Here's an example to illustrate the usage of __init__():"
   ]
  },
  {
   "cell_type": "code",
   "execution_count": 3,
   "id": "3f831e14-b23e-436f-89df-2895b1e282cf",
   "metadata": {},
   "outputs": [
    {
     "name": "stdout",
     "output_type": "stream",
     "text": [
      "Vivek\n",
      "My name is Vivek and I am 29 years old.\n"
     ]
    }
   ],
   "source": [
    "class Person:\n",
    "    def __init__(self, name, age):\n",
    "        self.name = name\n",
    "        self.age = age\n",
    "\n",
    "    def introduce(self):\n",
    "        print(f\"My name is {self.name} and I am {self.age} years old.\")\n",
    "\n",
    "# Create a Person object\n",
    "person = Person(\"Vivek\", 29)\n",
    "\n",
    "# Access attributes and invoke method\n",
    "print(person.name)       # Output: John\n",
    "person.introduce()       # Output: My name is John and I am 30 years old.\n"
   ]
  },
  {
   "cell_type": "markdown",
   "id": "f9ab6655-c3ba-4555-9b52-fa19c0ecc9a0",
   "metadata": {},
   "source": [
    "Q4. Why self is used in OOPs?"
   ]
  },
  {
   "cell_type": "markdown",
   "id": "6e8737ba-01b3-4410-9887-1de5d832e6e6",
   "metadata": {},
   "source": [
    "In object-oriented programming, \"self\" is a convention used to refer to the instance of a class within the class itself. It is a reference to the current object on which a method is being called.\n",
    "\n",
    "When defining methods within a class, the first parameter is typically named \"self\". This parameter represents the instance of the object on which the method is invoked. By convention, it is named \"self\", but you can use any valid variable name."
   ]
  },
  {
   "cell_type": "markdown",
   "id": "3a1609ab-530d-49c5-9735-f186f2344c4e",
   "metadata": {},
   "source": [
    "Using \"self\" allows you to access the attributes and methods of the current object within the class. It provides a way to differentiate between instance variables (attributes) and local variables within a method."
   ]
  },
  {
   "cell_type": "code",
   "execution_count": 4,
   "id": "7ce89b76-b2a5-40a3-b637-0860eb07da15",
   "metadata": {},
   "outputs": [
    {
     "name": "stdout",
     "output_type": "stream",
     "text": [
      "78.5\n"
     ]
    }
   ],
   "source": [
    "class Circle:\n",
    "    def __init__(self, radius):\n",
    "        self.radius = radius\n",
    "\n",
    "    def calculate_area(self):\n",
    "        area = 3.14 * self.radius * self.radius\n",
    "        return area\n",
    "\n",
    "# Create a Circle object\n",
    "circle = Circle(5)\n",
    "\n",
    "# Invoke the method using the object\n",
    "print(circle.calculate_area())  # Output: 78.5\n"
   ]
  },
  {
   "cell_type": "markdown",
   "id": "d401a555-ed87-41fa-8687-455d6e07fb89",
   "metadata": {},
   "source": [
    "Q5. Inheritance and examples for each type of inheritance:\n",
    "\n"
   ]
  },
  {
   "cell_type": "markdown",
   "id": "3a5b909e-a14f-4990-9ff9-c7644433428b",
   "metadata": {},
   "source": [
    "Inheritance is a fundamental concept in object-oriented programming that allows one class to inherit the properties and behaviors of another class. It promotes code reuse and enables the creation of a hierarchical relationship between classes. There are different types of inheritance:\n",
    "\n",
    "Single Inheritance: In single inheritance, a class inherits from a single base class. It forms a parent-child relationship between two classes. The derived class inherits the attributes and methods of the base class.\n",
    "\n"
   ]
  },
  {
   "cell_type": "code",
   "execution_count": null,
   "id": "5ee9016c-40c4-4e27-ac0c-95bc87bc8736",
   "metadata": {},
   "outputs": [],
   "source": []
  },
  {
   "cell_type": "code",
   "execution_count": null,
   "id": "5f03995a-e654-4c25-8872-863e004a51b8",
   "metadata": {},
   "outputs": [],
   "source": []
  },
  {
   "cell_type": "code",
   "execution_count": null,
   "id": "15a50e6a-6bc5-4732-944a-7d0a3c88d2c0",
   "metadata": {},
   "outputs": [],
   "source": []
  },
  {
   "cell_type": "code",
   "execution_count": null,
   "id": "6fafd32e-cbd9-4c9b-9dd1-f38b0a37ee01",
   "metadata": {},
   "outputs": [],
   "source": []
  },
  {
   "cell_type": "code",
   "execution_count": null,
   "id": "bb6fdb06-eab0-4e39-a53f-a6d0ff53e124",
   "metadata": {},
   "outputs": [],
   "source": []
  },
  {
   "cell_type": "code",
   "execution_count": null,
   "id": "27ae6985-cada-486a-a0ab-4881d42ba344",
   "metadata": {},
   "outputs": [],
   "source": []
  },
  {
   "cell_type": "code",
   "execution_count": null,
   "id": "f796966a-7e14-4550-8408-e1a40eaf36b0",
   "metadata": {},
   "outputs": [],
   "source": []
  },
  {
   "cell_type": "code",
   "execution_count": null,
   "id": "761d4499-acf9-47fb-b735-6ee5d42a0654",
   "metadata": {},
   "outputs": [],
   "source": []
  },
  {
   "cell_type": "code",
   "execution_count": null,
   "id": "380721a5-44d3-44e0-bc27-c50d4793954b",
   "metadata": {},
   "outputs": [],
   "source": []
  },
  {
   "cell_type": "code",
   "execution_count": null,
   "id": "bf1fa967-3550-47c8-9455-e00f099c2875",
   "metadata": {},
   "outputs": [],
   "source": []
  }
 ],
 "metadata": {
  "kernelspec": {
   "display_name": "Python 3 (ipykernel)",
   "language": "python",
   "name": "python3"
  },
  "language_info": {
   "codemirror_mode": {
    "name": "ipython",
    "version": 3
   },
   "file_extension": ".py",
   "mimetype": "text/x-python",
   "name": "python",
   "nbconvert_exporter": "python",
   "pygments_lexer": "ipython3",
   "version": "3.10.8"
  }
 },
 "nbformat": 4,
 "nbformat_minor": 5
}
